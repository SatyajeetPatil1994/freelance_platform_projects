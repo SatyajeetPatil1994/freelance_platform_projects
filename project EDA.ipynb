{
 "cells": [
  {
   "cell_type": "code",
   "execution_count": 1,
   "id": "ed2a834f",
   "metadata": {},
   "outputs": [],
   "source": [
    "import pandas as pd\n",
    "import seaborn as sns\n",
    "import matplotlib.pyplot as plt\n",
    "import numpy as np\n",
    "\n",
    "# Load the dataset\n",
    "df = pd.read_csv('freelance_platform_projects.csv')"
   ]
  },
  {
   "cell_type": "code",
   "execution_count": 2,
   "id": "45df560d",
   "metadata": {},
   "outputs": [
    {
     "data": {
      "text/html": [
       "<div>\n",
       "<style scoped>\n",
       "    .dataframe tbody tr th:only-of-type {\n",
       "        vertical-align: middle;\n",
       "    }\n",
       "\n",
       "    .dataframe tbody tr th {\n",
       "        vertical-align: top;\n",
       "    }\n",
       "\n",
       "    .dataframe thead th {\n",
       "        text-align: right;\n",
       "    }\n",
       "</style>\n",
       "<table border=\"1\" class=\"dataframe\">\n",
       "  <thead>\n",
       "    <tr style=\"text-align: right;\">\n",
       "      <th></th>\n",
       "      <th>Title</th>\n",
       "      <th>Category Name</th>\n",
       "      <th>Experience</th>\n",
       "      <th>Sub Category Name</th>\n",
       "      <th>Currency</th>\n",
       "      <th>Budget</th>\n",
       "      <th>Location</th>\n",
       "      <th>Freelancer Preferred From</th>\n",
       "      <th>Type</th>\n",
       "      <th>Date Posted</th>\n",
       "      <th>Description</th>\n",
       "      <th>Duration</th>\n",
       "      <th>Client Registration Date</th>\n",
       "      <th>Client City</th>\n",
       "      <th>Client Country</th>\n",
       "      <th>Client Currency</th>\n",
       "      <th>Client Job Title</th>\n",
       "    </tr>\n",
       "  </thead>\n",
       "  <tbody>\n",
       "    <tr>\n",
       "      <th>0</th>\n",
       "      <td>Go through wordpress site to improve speed</td>\n",
       "      <td>Technology &amp; Programming</td>\n",
       "      <td>Entry ($)</td>\n",
       "      <td>Website Development</td>\n",
       "      <td>GBP</td>\n",
       "      <td>30.0</td>\n",
       "      <td>remote</td>\n",
       "      <td>ALL</td>\n",
       "      <td>fixed_price</td>\n",
       "      <td>2023-04-09 02:56:08</td>\n",
       "      <td>Need someone to go through Wordpress website (...</td>\n",
       "      <td>1 day or less</td>\n",
       "      <td>2022-11-18</td>\n",
       "      <td>Brisbane</td>\n",
       "      <td>Australia</td>\n",
       "      <td>USD</td>\n",
       "      <td>NaN</td>\n",
       "    </tr>\n",
       "    <tr>\n",
       "      <th>1</th>\n",
       "      <td>design concept for commercial building</td>\n",
       "      <td>Design</td>\n",
       "      <td>Entry ($)</td>\n",
       "      <td>Interior/Exterior Design</td>\n",
       "      <td>USD</td>\n",
       "      <td>100.0</td>\n",
       "      <td>remote</td>\n",
       "      <td>ALL</td>\n",
       "      <td>fixed_price</td>\n",
       "      <td>2023-04-09 02:56:08</td>\n",
       "      <td>design concept for commercial building , groun...</td>\n",
       "      <td>NaN</td>\n",
       "      <td>2010-09-03</td>\n",
       "      <td>Caracas</td>\n",
       "      <td>Venezuela</td>\n",
       "      <td>USD</td>\n",
       "      <td>NaN</td>\n",
       "    </tr>\n",
       "    <tr>\n",
       "      <th>2</th>\n",
       "      <td>SSH access to my server &amp; PLESK</td>\n",
       "      <td>Technology &amp; Programming</td>\n",
       "      <td>Entry ($)</td>\n",
       "      <td>Website Development</td>\n",
       "      <td>EUR</td>\n",
       "      <td>15.0</td>\n",
       "      <td>remote</td>\n",
       "      <td>ALL</td>\n",
       "      <td>fixed_price</td>\n",
       "      <td>2023-04-09 02:04:45</td>\n",
       "      <td>I need to delete some backup files from the me...</td>\n",
       "      <td>NaN</td>\n",
       "      <td>2023-03-11</td>\n",
       "      <td>London</td>\n",
       "      <td>United Kingdom</td>\n",
       "      <td>GBP</td>\n",
       "      <td>NaN</td>\n",
       "    </tr>\n",
       "    <tr>\n",
       "      <th>3</th>\n",
       "      <td>Interiors Design blog writting</td>\n",
       "      <td>Writing &amp; Translation</td>\n",
       "      <td>Intermediate ($$)</td>\n",
       "      <td>Technical Writing</td>\n",
       "      <td>GBP</td>\n",
       "      <td>25.0</td>\n",
       "      <td>remote</td>\n",
       "      <td>ALL</td>\n",
       "      <td>hourly</td>\n",
       "      <td>2023-04-09 02:08:11</td>\n",
       "      <td>Hello! I'm looking for an experienced writer t...</td>\n",
       "      <td>NaN</td>\n",
       "      <td>2023-04-09</td>\n",
       "      <td>London</td>\n",
       "      <td>United Kingdom</td>\n",
       "      <td>GBP</td>\n",
       "      <td>NaN</td>\n",
       "    </tr>\n",
       "    <tr>\n",
       "      <th>4</th>\n",
       "      <td>Boost website seo</td>\n",
       "      <td>Digital Marketing</td>\n",
       "      <td>Intermediate ($$)</td>\n",
       "      <td>SEO</td>\n",
       "      <td>GBP</td>\n",
       "      <td>30.0</td>\n",
       "      <td>remote</td>\n",
       "      <td>ALL</td>\n",
       "      <td>hourly</td>\n",
       "      <td>2023-04-09 02:08:11</td>\n",
       "      <td>I am getting ready to launch my bi weekly blog...</td>\n",
       "      <td>NaN</td>\n",
       "      <td>2023-04-09</td>\n",
       "      <td>London</td>\n",
       "      <td>United Kingdom</td>\n",
       "      <td>GBP</td>\n",
       "      <td>NaN</td>\n",
       "    </tr>\n",
       "  </tbody>\n",
       "</table>\n",
       "</div>"
      ],
      "text/plain": [
       "                                        Title             Category Name  \\\n",
       "0  Go through wordpress site to improve speed  Technology & Programming   \n",
       "1      design concept for commercial building                    Design   \n",
       "2             SSH access to my server & PLESK  Technology & Programming   \n",
       "3              Interiors Design blog writting     Writing & Translation   \n",
       "4                           Boost website seo         Digital Marketing   \n",
       "\n",
       "          Experience         Sub Category Name Currency  Budget Location  \\\n",
       "0          Entry ($)       Website Development      GBP    30.0   remote   \n",
       "1          Entry ($)  Interior/Exterior Design      USD   100.0   remote   \n",
       "2          Entry ($)       Website Development      EUR    15.0   remote   \n",
       "3  Intermediate ($$)         Technical Writing      GBP    25.0   remote   \n",
       "4  Intermediate ($$)                       SEO      GBP    30.0   remote   \n",
       "\n",
       "  Freelancer Preferred From         Type          Date Posted  \\\n",
       "0                       ALL  fixed_price  2023-04-09 02:56:08   \n",
       "1                       ALL  fixed_price  2023-04-09 02:56:08   \n",
       "2                       ALL  fixed_price  2023-04-09 02:04:45   \n",
       "3                       ALL       hourly  2023-04-09 02:08:11   \n",
       "4                       ALL       hourly  2023-04-09 02:08:11   \n",
       "\n",
       "                                         Description       Duration  \\\n",
       "0  Need someone to go through Wordpress website (...  1 day or less   \n",
       "1  design concept for commercial building , groun...            NaN   \n",
       "2  I need to delete some backup files from the me...            NaN   \n",
       "3  Hello! I'm looking for an experienced writer t...            NaN   \n",
       "4  I am getting ready to launch my bi weekly blog...            NaN   \n",
       "\n",
       "  Client Registration Date Client City  Client Country Client Currency  \\\n",
       "0               2022-11-18    Brisbane       Australia             USD   \n",
       "1               2010-09-03     Caracas       Venezuela             USD   \n",
       "2               2023-03-11      London  United Kingdom             GBP   \n",
       "3               2023-04-09      London  United Kingdom             GBP   \n",
       "4               2023-04-09      London  United Kingdom             GBP   \n",
       "\n",
       "  Client Job Title  \n",
       "0              NaN  \n",
       "1              NaN  \n",
       "2              NaN  \n",
       "3              NaN  \n",
       "4              NaN  "
      ]
     },
     "execution_count": 2,
     "metadata": {},
     "output_type": "execute_result"
    }
   ],
   "source": [
    "# Check the first 5 rows\n",
    "df.head()"
   ]
  },
  {
   "cell_type": "code",
   "execution_count": 3,
   "id": "3147db8c",
   "metadata": {},
   "outputs": [
    {
     "data": {
      "text/plain": [
       "(9815, 17)"
      ]
     },
     "execution_count": 3,
     "metadata": {},
     "output_type": "execute_result"
    }
   ],
   "source": [
    "# Check the shape of the dataset\n",
    "df.shape"
   ]
  },
  {
   "cell_type": "code",
   "execution_count": 4,
   "id": "a325d365",
   "metadata": {},
   "outputs": [
    {
     "data": {
      "text/html": [
       "<div>\n",
       "<style scoped>\n",
       "    .dataframe tbody tr th:only-of-type {\n",
       "        vertical-align: middle;\n",
       "    }\n",
       "\n",
       "    .dataframe tbody tr th {\n",
       "        vertical-align: top;\n",
       "    }\n",
       "\n",
       "    .dataframe thead th {\n",
       "        text-align: right;\n",
       "    }\n",
       "</style>\n",
       "<table border=\"1\" class=\"dataframe\">\n",
       "  <thead>\n",
       "    <tr style=\"text-align: right;\">\n",
       "      <th></th>\n",
       "      <th>Budget</th>\n",
       "    </tr>\n",
       "  </thead>\n",
       "  <tbody>\n",
       "    <tr>\n",
       "      <th>count</th>\n",
       "      <td>9815.000000</td>\n",
       "    </tr>\n",
       "    <tr>\n",
       "      <th>mean</th>\n",
       "      <td>221.544065</td>\n",
       "    </tr>\n",
       "    <tr>\n",
       "      <th>std</th>\n",
       "      <td>1763.810828</td>\n",
       "    </tr>\n",
       "    <tr>\n",
       "      <th>min</th>\n",
       "      <td>0.000000</td>\n",
       "    </tr>\n",
       "    <tr>\n",
       "      <th>25%</th>\n",
       "      <td>30.000000</td>\n",
       "    </tr>\n",
       "    <tr>\n",
       "      <th>50%</th>\n",
       "      <td>80.000000</td>\n",
       "    </tr>\n",
       "    <tr>\n",
       "      <th>75%</th>\n",
       "      <td>150.000000</td>\n",
       "    </tr>\n",
       "    <tr>\n",
       "      <th>max</th>\n",
       "      <td>99999.000000</td>\n",
       "    </tr>\n",
       "  </tbody>\n",
       "</table>\n",
       "</div>"
      ],
      "text/plain": [
       "             Budget\n",
       "count   9815.000000\n",
       "mean     221.544065\n",
       "std     1763.810828\n",
       "min        0.000000\n",
       "25%       30.000000\n",
       "50%       80.000000\n",
       "75%      150.000000\n",
       "max    99999.000000"
      ]
     },
     "execution_count": 4,
     "metadata": {},
     "output_type": "execute_result"
    }
   ],
   "source": [
    "# Check the basic statistics of the numerical variables\n",
    "df.describe()"
   ]
  },
  {
   "cell_type": "code",
   "execution_count": 5,
   "id": "6fad3d1d",
   "metadata": {},
   "outputs": [
    {
     "data": {
      "text/plain": [
       "Title                           0\n",
       "Category Name                   0\n",
       "Experience                      0\n",
       "Sub Category Name               0\n",
       "Currency                        0\n",
       "Budget                          0\n",
       "Location                        0\n",
       "Freelancer Preferred From       0\n",
       "Type                            0\n",
       "Date Posted                     0\n",
       "Description                     0\n",
       "Duration                     8521\n",
       "Client Registration Date        0\n",
       "Client City                     0\n",
       "Client Country                  0\n",
       "Client Currency                 0\n",
       "Client Job Title             6098\n",
       "dtype: int64"
      ]
     },
     "execution_count": 5,
     "metadata": {},
     "output_type": "execute_result"
    }
   ],
   "source": [
    "#check for missing values\n",
    "df.isnull().sum()\n",
    "# In 'Duration' column there are 8521 missing values out of 9815 rows\n",
    "# In 'Client Job Title' there are 6098 missing values out of 9815 rows"
   ]
  },
  {
   "cell_type": "code",
   "execution_count": 6,
   "id": "9e0059fb",
   "metadata": {},
   "outputs": [
    {
     "data": {
      "text/plain": [
       "(9815, 15)"
      ]
     },
     "execution_count": 6,
     "metadata": {},
     "output_type": "execute_result"
    }
   ],
   "source": [
    "# delete Duration and Client Job Title columns\n",
    "df.dropna(axis=1,inplace=True)\n",
    "df.shape"
   ]
  },
  {
   "cell_type": "code",
   "execution_count": 7,
   "id": "e46f9506",
   "metadata": {},
   "outputs": [
    {
     "name": "stderr",
     "output_type": "stream",
     "text": [
      "C:\\Users\\satya\\anaconda3\\lib\\site-packages\\seaborn\\_decorators.py:36: FutureWarning: Pass the following variable as a keyword arg: x. From version 0.12, the only valid positional argument will be `data`, and passing other arguments without an explicit keyword will result in an error or misinterpretation.\n",
      "  warnings.warn(\n"
     ]
    },
    {
     "data": {
      "image/png": "[encoded data removed]",
      "text/plain": [
       "<Figure size 640x480 with 1 Axes>"
      ]
     },
     "metadata": {},
     "output_type": "display_data"
    }
   ],
   "source": [
    "# check for outliers in Budget column\n",
    "sns.boxplot(df['Budget'])\n",
    "plt.show()"
   ]
  },
  {
   "cell_type": "code",
   "execution_count": 8,
   "id": "428f8298",
   "metadata": {},
   "outputs": [
    {
     "name": "stderr",
     "output_type": "stream",
     "text": [
      "C:\\Users\\satya\\anaconda3\\lib\\site-packages\\seaborn\\_decorators.py:36: FutureWarning: Pass the following variable as a keyword arg: x. From version 0.12, the only valid positional argument will be `data`, and passing other arguments without an explicit keyword will result in an error or misinterpretation.\n",
      "  warnings.warn(\n"
     ]
    },
    {
     "data": {
      "image/png": "[encoded data removed]",
      "text/plain": [
       "<Figure size 640x480 with 1 Axes>"
      ]
     },
     "metadata": {},
     "output_type": "display_data"
    }
   ],
   "source": [
    "# eliminate the outliers in Budget column\n",
    "outliers=np.where(df['Budget']>125)[0]\n",
    "df= df.drop(outliers, axis=0)\n",
    "sns.boxplot(df['Budget'])\n",
    "plt.show()"
   ]
  },
  {
   "cell_type": "code",
   "execution_count": 9,
   "id": "d757fe76",
   "metadata": {},
   "outputs": [
    {
     "data": {
      "text/plain": [
       "<seaborn.axisgrid.FacetGrid at 0x1c26cd10310>"
      ]
     },
     "execution_count": 9,
     "metadata": {},
     "output_type": "execute_result"
    },
    {
     "data": {
      "image/png": "[encoded data removed]",
      "text/plain": [
       "<Figure size 500x500 with 1 Axes>"
      ]
     },
     "metadata": {},
     "output_type": "display_data"
    }
   ],
   "source": [
    "# Check the distribution of the target variable\n",
    "sns.displot(df, x='Budget')"
   ]
  },
  {
   "cell_type": "code",
   "execution_count": 10,
   "id": "fe953caf",
   "metadata": {},
   "outputs": [
    {
     "data": {
      "text/html": [
       "<div>\n",
       "<style scoped>\n",
       "    .dataframe tbody tr th:only-of-type {\n",
       "        vertical-align: middle;\n",
       "    }\n",
       "\n",
       "    .dataframe tbody tr th {\n",
       "        vertical-align: top;\n",
       "    }\n",
       "\n",
       "    .dataframe thead th {\n",
       "        text-align: right;\n",
       "    }\n",
       "</style>\n",
       "<table border=\"1\" class=\"dataframe\">\n",
       "  <thead>\n",
       "    <tr style=\"text-align: right;\">\n",
       "      <th></th>\n",
       "      <th>Budget</th>\n",
       "    </tr>\n",
       "  </thead>\n",
       "  <tbody>\n",
       "    <tr>\n",
       "      <th>count</th>\n",
       "      <td>7010.000000</td>\n",
       "    </tr>\n",
       "    <tr>\n",
       "      <th>mean</th>\n",
       "      <td>54.155777</td>\n",
       "    </tr>\n",
       "    <tr>\n",
       "      <th>std</th>\n",
       "      <td>34.343352</td>\n",
       "    </tr>\n",
       "    <tr>\n",
       "      <th>min</th>\n",
       "      <td>0.000000</td>\n",
       "    </tr>\n",
       "    <tr>\n",
       "      <th>25%</th>\n",
       "      <td>23.000000</td>\n",
       "    </tr>\n",
       "    <tr>\n",
       "      <th>50%</th>\n",
       "      <td>50.000000</td>\n",
       "    </tr>\n",
       "    <tr>\n",
       "      <th>75%</th>\n",
       "      <td>88.000000</td>\n",
       "    </tr>\n",
       "    <tr>\n",
       "      <th>max</th>\n",
       "      <td>125.000000</td>\n",
       "    </tr>\n",
       "  </tbody>\n",
       "</table>\n",
       "</div>"
      ],
      "text/plain": [
       "            Budget\n",
       "count  7010.000000\n",
       "mean     54.155777\n",
       "std      34.343352\n",
       "min       0.000000\n",
       "25%      23.000000\n",
       "50%      50.000000\n",
       "75%      88.000000\n",
       "max     125.000000"
      ]
     },
     "execution_count": 10,
     "metadata": {},
     "output_type": "execute_result"
    }
   ],
   "source": [
    "df.describe()"
   ]
  },
  {
   "cell_type": "code",
   "execution_count": null,
   "id": "335daee8",
   "metadata": {},
   "outputs": [],
   "source": []
  }
 ],
 "metadata": {
  "kernelspec": {
   "display_name": "Python 3 (ipykernel)",
   "language": "python",
   "name": "python3"
  },
  "language_info": {
   "codemirror_mode": {
    "name": "ipython",
    "version": 3
   },
   "file_extension": ".py",
   "mimetype": "text/x-python",
   "name": "python",
   "nbconvert_exporter": "python",
   "pygments_lexer": "ipython3",
   "version": "3.9.13"
  }
 },
 "nbformat": 4,
 "nbformat_minor": 5
}
